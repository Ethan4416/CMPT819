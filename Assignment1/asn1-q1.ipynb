{
 "cells": [
  {
   "cell_type": "markdown",
   "id": "d83bea8b-fece-4382-9d99-16e27a979fd3",
   "metadata": {},
   "source": [
    "# Question 1\n",
    "\n",
    "In this question we will\n",
    "- Practice reading image filenames from a .csv file for processing.\n",
    "- Compare the PSNR and SSIM of different denoising methods applied to a dataset at different noise levels.\n",
    "\n",
    "\n"
   ]
  },
  {
   "cell_type": "code",
   "execution_count": 1,
   "id": "db84ec26-0700-4e44-b02f-212980e868da",
   "metadata": {},
   "outputs": [],
   "source": [
    "# Boilerplate imports\n",
    "import skimage.io as skio\n",
    "import skimage.color as skcolor\n",
    "import skimage.util as skutil\n",
    "import skimage.restoration as skrest\n",
    "import skimage.filters as skfilt\n",
    "import skimage.metrics as skmetrics\n",
    "import os\n",
    "import numpy as np\n",
    "import matplotlib.pyplot as plt\n",
    "import pandas as pd\n"
   ]
  },
  {
   "cell_type": "markdown",
   "id": "9acf0e07-94ea-4b0e-8b84-03a5dc8fceb2",
   "metadata": {},
   "source": [
    "# Step 1: Read the image filenames from the .csv file.  \n",
    "\n",
    "For this you should add `import pandas as pd` to the list of boilerplate imports, above.  Then use the pd.read_csv() function and give the path to the images.csv file as an argument, and also give the optional argument `headers=None` because the given .csv file does not have column title headers.  This will return a Pandas dataframe with one column containing the filenames.  We could iterate over the dataframe, but in order to not have to get too deep into the use of Pandas dataframes, we can convert the single column dataframe to a Python list easily.  If the dataframe is referred to by a variable called `files`, we can convert the first column to a list using:  `files[0].tolist()`.  This will return a list of strings, one for each filename that we can now easily iterate over using a for-loop.\n"
   ]
  },
  {
   "cell_type": "code",
   "execution_count": 3,
   "id": "4f1c6d87-ab4b-47fe-98b5-a5e0fab0e895",
   "metadata": {},
   "outputs": [],
   "source": [
    "# Write the code for this step here\n",
    "files = pd.read_csv(\"images/images.csv\", header=None)\n",
    "png_list = files[0].tolist()"
   ]
  },
  {
   "cell_type": "markdown",
   "id": "5522e2b8-529c-4f8e-9a41-fdd3de0e57c6",
   "metadata": {},
   "source": [
    "# Step 2: Process the images\n",
    "\n",
    "## Instructions\n",
    "\n",
    "- For each filename in `file_list` defined in the prevous block (for testing purposes you can use a small number of the images, say the first 3-5 filenames):\n",
    "    - read in the noiseless version of that image from the images/noiseless directory.  Convert it to grayscale (since these are RGB colour images) and convert it to a dtype float64 numpy array using `skutil.img_as_float()`.\n",
    "    - use the `skutil.random_noise()` function to corrupt the noiseless image with Gaussian noise with standard deviation sigma for each of the sigma values given in the array `sigmas`, defined below.  Keep in mind that the values in `sigmas` are standard deviations, and the `random_noise()` function expects *variance*, so you will need to square the sigma values when you pass them to `random_noise()`.\n",
    "    - Denoise each of the 5 noisy versions of the image with Gaussian filtering (`skfilt.gaussian()`), total variation minimization (TVM) (`skrest.denoise_tv_bregman()`), and non-local means filtering (NLM) (`skrest.denoise_nl_means()`).  For Gaussian filtering, use a 7x7 filter.  For TVM and NLM just pass in the image and use the *default* parameters.\n",
    "    - For each denoised image, compute and store the PSNR and SSIM resulting from denoising with each method by comparing each denoised image to the noiseless image.  Do this in such a way that is easy to compute the averages described below.\n",
    "      \n",
    "- Compute the average PSNR and SSIM for each denoising method and noise level.   We recommend that the results of this computation be stored in the form of six different arrays or lists, one for each combination of denoising method and metric.\n",
    "- See functions `skmetrics.peak_signal_noise_ratio()` and `skmetrics.structural_similarity()` to compute PSNR and SSIM.\n",
    "\n",
    "For testing use only the first three to five filenames in `file_list` so that you can perform testing quickly.  Once you have completed and thoroughly tested your code, run it on the entire list of filenames.  This will take several minutes.  \n"
   ]
  },
  {
   "cell_type": "code",
   "execution_count": 100,
   "id": "079bf95c-d7ed-48b8-ac6a-0f2a4a1bda83",
   "metadata": {},
   "outputs": [
    {
     "name": "stdout",
     "output_type": "stream",
     "text": [
      "length of list: 200, width of list: 5\n",
      "Gaussian Filter PSNR Averages per Noise Level: [29.67352289 29.56720017 28.92364964 27.32801168 24.2076138 ]\n",
      "Gaussian Filter SSIM Averages per Noise Level: [0.89903804 0.8968706  0.88189684 0.8342698  0.70628483]\n",
      "TVM Filter PSNR Averages per Noise Level: [29.06692631 29.05162415 28.9023502  27.91656672 23.82262717]\n",
      "TVM Filter SSIM Averages per Noise Level: [0.87034738 0.87054032 0.87042516 0.85130074 0.68199125]\n",
      "NLM Filter PSNR Averages per Noise Level: [26.8930576  26.8969095  26.93750009 27.02077985 18.7393021 ]\n",
      "NLM Filter SSIM Averages per Noise Level: [0.80669959 0.80707792 0.80985131 0.81771742 0.44242305]\n"
     ]
    }
   ],
   "source": [
    "# Define the set of different noise levels.  Remember these are STANDARD DEVIATIONS, not VARIANCE. The squares of these values are variance.\n",
    "sigmas = [0.01, 0.02, 0.05, 0.1, 0.2]\n",
    "\n",
    "# Write the code for the rest of this step here.\n",
    "num_tests = 5\n",
    "test_files = png_list[:num_tests]\n",
    "\n",
    "noiseless_imgs = []\n",
    "for file in png_list:\n",
    "    img = skio.imread(f\"images/images/noiseless/{file}\")\n",
    "    img = skcolor.rgb2gray(img)\n",
    "    img = skutil.img_as_float64(img)\n",
    "    noiseless_imgs.append(img)\n",
    "\n",
    "noisy_imgs = [[skutil.random_noise(cleanimg, mode='gaussian', var = sigma**2) for sigma in sigmas] for cleanimg in noiseless_imgs]\n",
    "\n",
    "print(f\"length of list: {len(noisy_imgs)}, width of list: {len(noisy_imgs[0])}\")\n",
    "\n",
    "\n",
    "# 7x7 filter means sigma = n/6 = 7/6\n",
    "gaus_cleaned = [[skfilt.gaussian(noisy[index], sigma=7/6) for index in range(len(sigmas))] for noisy in noisy_imgs]\n",
    "\n",
    "gaus_psnr = [[skmetrics.peak_signal_noise_ratio(noiseless_imgs[i], gaus_cleaned[i][j]) for j in range(len(sigmas))] for i in range(num_tests)]\n",
    "gaus_ssim = [[skmetrics.structural_similarity(noiseless_imgs[i], gaus_cleaned[i][j]) for j in range(len(sigmas))] for i in range(num_tests)]\n",
    "gaus_psnr_ave = np.average(gaus_psnr, axis=0)\n",
    "gaus_ssim_ave = np.average(gaus_ssim, axis=0)\n",
    "print(f\"Gaussian Filter PSNR Averages per Noise Level: {gaus_psnr_ave}\")\n",
    "print(f\"Gaussian Filter SSIM Averages per Noise Level: {gaus_ssim_ave}\")\n",
    "\n",
    "tvm_cleaned = [[skrest.denoise_tv_bregman(noisy[index]) for index in range(len(sigmas))] for noisy in noisy_imgs]\n",
    "\n",
    "\n",
    "tvm_psnr = [[skmetrics.peak_signal_noise_ratio(noiseless_imgs[i], tvm_cleaned[i][j]) for j in range(len(sigmas))] for i in range(num_tests)]\n",
    "tvm_ssim = [[skmetrics.structural_similarity(noiseless_imgs[i], tvm_cleaned[i][j]) for j in range(len(sigmas))] for i in range(num_tests)]\n",
    "tvm_psnr_ave = np.average(tvm_psnr, axis=0)\n",
    "tvm_ssim_ave = np.average(tvm_ssim, axis=0)\n",
    "print(f\"TVM Filter PSNR Averages per Noise Level: {tvm_psnr_ave}\")\n",
    "print(f\"TVM Filter SSIM Averages per Noise Level: {tvm_ssim_ave}\")\n",
    "\n",
    "nlm_cleaned = [[skrest.denoise_nl_means(noisy[index]) for index in range(len(sigmas))] for noisy in noisy_imgs]\n",
    "\n",
    "\n",
    "nlm_psnr = [[skmetrics.peak_signal_noise_ratio(noiseless_imgs[i], nlm_cleaned[i][j]) for j in range(len(sigmas))] for i in range(num_tests)]\n",
    "nlm_ssim = [[skmetrics.structural_similarity(noiseless_imgs[i], nlm_cleaned[i][j]) for j in range(len(sigmas))] for i in range(num_tests)]\n",
    "nlm_psnr_ave = np.average(nlm_psnr, axis=0)\n",
    "nlm_ssim_ave = np.average(nlm_ssim, axis=0)\n",
    "print(f\"NLM Filter PSNR Averages per Noise Level: {nlm_psnr_ave}\")\n",
    "print(f\"NLM Filter SSIM Averages per Noise Level: {nlm_ssim_ave}\")\n"
   ]
  },
  {
   "cell_type": "code",
   "execution_count": 111,
   "id": "64e321db",
   "metadata": {},
   "outputs": [],
   "source": [
    "with open(\"averages.txt\", \"w\") as f:\n",
    "    f.write(\"Gaussian Filter PSNR Averages per Noise Level: \" + str(gaus_psnr_ave) + \"\\n\")\n",
    "    f.write(\"Gaussian Filter SSIM Averages per Noise Level: \" + str(gaus_ssim_ave) + \"\\n\")\n",
    "    f.write(\"TVM Filter PSNR Averages per Noise Level: \" + str(tvm_psnr_ave) + \"\\n\")\n",
    "    f.write(\"TVM Filter SSIM Averages per Noise Level: \" + str(tvm_ssim_ave) + \"\\n\")\n",
    "    f.write(\"NLM Filter PSNR Averages per Noise Level: \" + str(nlm_psnr_ave) + \"\\n\")\n",
    "    f.write(\"NLM Filter SSIM Averages per Noise Level: \" + str(nlm_ssim_ave) + \"\\n\")"
   ]
  },
  {
   "cell_type": "markdown",
   "id": "df8189ad-e8b3-4211-be57-e93e84601b5a",
   "metadata": {},
   "source": [
    "# Step 3: Plot the PSNR and SSIM for each noise level and denoising method.\n",
    "\n",
    "## Instructions\n",
    "\n",
    "- Generate a 2 x 6 group of subplots, each of which contains a bar graph.  The first row of three graphs should show the mean PSNR for each of the five noise levels for Gaussian filtering, TVM filtering and NLM filtering.  Sample output is given in the assignment PDF.  Your plots, subplot titles, axis labels, and tick labels should match the sample output.\n",
    "- Make sure that the range of the y-axis is the same for all PSNR plots and the same for all SSIM plots.\n"
   ]
  },
  {
   "cell_type": "code",
   "execution_count": 110,
   "id": "b4186f16-85b8-46d9-80f0-52c0eca08b83",
   "metadata": {},
   "outputs": [
    {
     "data": {
      "image/png": "[encoded data removed]",
      "text/plain": [
       "<Figure size 1440x720 with 6 Axes>"
      ]
     },
     "metadata": {
      "needs_background": "light"
     },
     "output_type": "display_data"
    }
   ],
   "source": [
    "# Write the code for this step here\n",
    "\n",
    "#2x3 grid of bar plots, top row for PSNR, bottom row for SSIM, 5 bars in each plot for the 5 noise levels, 1st column for gaus, 2 for TVM, 3 for NLM\n",
    "x = np.arange(len(sigmas))  # the label locations\n",
    "width = 0.8  # the width of the bars\n",
    "fig, axs = plt.subplots(2, 3, figsize=(20, 10))\n",
    "# PSNR plots\n",
    "axs[0, 0].bar(x, gaus_psnr_ave, width)\n",
    "axs[0, 0].set_title('Gaussian-filtered PSNR')\n",
    "axs[0, 0].set_xticks(x)\n",
    "axs[0, 0].set_xticklabels(sigmas)\n",
    "axs[0, 0].set_ylabel('PSNR')\n",
    "axs[0, 0].set_xlabel('Gaussian Noise Level')\n",
    "axs[0, 0].set_ylim(0,40)\n",
    "axs[0, 1].bar(x, tvm_psnr_ave, width)\n",
    "axs[0, 1].set_title('TVM-filtered PSNR')\n",
    "axs[0, 1].set_xticks(x)\n",
    "axs[0, 1].set_xticklabels(sigmas)\n",
    "axs[0, 1].set_ylabel('PSNR')\n",
    "axs[0, 1].set_xlabel('Gaussian Noise Level')\n",
    "axs[0, 1].set_ylim(0,40)\n",
    "axs[0, 2].bar(x, nlm_psnr_ave, width)\n",
    "axs[0, 2].set_title('NLM-filtered PSNR')\n",
    "axs[0, 2].set_xticks(x)\n",
    "axs[0, 2].set_xticklabels(sigmas)\n",
    "axs[0, 2].set_ylabel('PSNR')\n",
    "axs[0, 2].set_xlabel('Gaussian Noise Level')\n",
    "axs[0, 2].set_ylim(0,40)\n",
    "\n",
    "# SSIM plots\n",
    "axs[1, 0].bar(x, gaus_ssim_ave, width)\n",
    "axs[1, 0].set_title('Gaussian-filtered PSNR')\n",
    "axs[1, 0].set_xticks(x)\n",
    "axs[1, 0].set_xticklabels(sigmas)\n",
    "axs[1, 0].set_ylabel('SSIM')\n",
    "axs[1, 0].set_xlabel('Gaussian Noise Level')\n",
    "axs[1, 0].set_ylim(0,1)\n",
    "axs[1, 1].bar(x, tvm_ssim_ave, width)\n",
    "axs[1, 1].set_title('TVM-filtered PSNR')\n",
    "axs[1, 1].set_xticks(x)\n",
    "axs[1, 1].set_xticklabels(sigmas)\n",
    "axs[1, 1].set_ylabel('SSIM')\n",
    "axs[1, 1].set_xlabel('Gaussian Noise Level')\n",
    "axs[1, 1].set_ylim(0,1)\n",
    "axs[1, 2].bar(x, nlm_ssim_ave, width)\n",
    "axs[1, 2].set_title('NLM-filtered PSNR')\n",
    "axs[1, 2].set_xticks(x)\n",
    "axs[1, 2].set_xticklabels(sigmas)\n",
    "axs[1, 2].set_ylabel('SSIM')\n",
    "axs[1, 2].set_xlabel('Gaussian Noise Level')\n",
    "axs[1, 2].set_ylim(0,1)\n",
    "\n",
    "plt.tight_layout()\n",
    "plt.show()"
   ]
  },
  {
   "cell_type": "markdown",
   "id": "e24c1da1-6e87-4ffc-b587-ed3c1b0a0370",
   "metadata": {},
   "source": [
    "# Step 4: Reflection\n",
    "\n",
    "We'd expect the total variation minimization (TVM) to be slightly better than Gaussian filtering at most noise levels, but we do not see this.  We'd also expect the non-local means (NLM) filtering to outperform Gaussian filtering at all noise levels, and again we do not see this.  This is because we did all filtering using default parameters for the TVM and NLM filtering algorithms.  Why do the default parameters not produce expected results?"
   ]
  },
  {
   "cell_type": "markdown",
   "id": "654cbd03-7e9c-413b-aa27-7970c52d7d24",
   "metadata": {},
   "source": [
    "### Type your answer here in this block:\n",
    "\n"
   ]
  },
  {
   "cell_type": "markdown",
   "id": "78d21cce-2a2a-400b-a3df-9306e63f4446",
   "metadata": {},
   "source": [
    "# Step 5: Improving the Results\n",
    "\n",
    "## Instructions:\n",
    "\n",
    "- Investigate the documentation for the denoise_tv_bregman() and denoise_nl_means() functions.   \n",
    "- Determine more optimal parameters for these algorithms that will improve results across all noise levels.  You may make the values of parameters dependent on the known noise level of a given image (i.e. a parameter may be a function of the noise level).\n",
    "- Hint: you can likely copy your code from Steps 2 and 3 and then add parameters to the denoising algoirthms.  \n",
    "- The output of this step should have the same form as Step 3, but the bar heights will be different.\n",
    "\n",
    "By adjusting the algorithm parameters judiciously, it should be possible to get TVM to at least very slightly outperform Gaussian filtering at all noise levels, and it should be possible to get NLM to greatly outperform both Gaussian filtering and TVM at low noise levels, and perform at least as well at high noise levels.\n",
    "\n",
    "This step will be assessed based on how closely you match or exceed the expected results described above (see rubric on Canvas)."
   ]
  },
  {
   "cell_type": "code",
   "execution_count": null,
   "id": "dd5f14a9-355b-47bd-82f6-03abed6ed6f2",
   "metadata": {},
   "outputs": [],
   "source": [
    "# Write the code for this step here\n"
   ]
  }
 ],
 "metadata": {
  "kernelspec": {
   "display_name": "base",
   "language": "python",
   "name": "python3"
  },
  "language_info": {
   "codemirror_mode": {
    "name": "ipython",
    "version": 3
   },
   "file_extension": ".py",
   "mimetype": "text/x-python",
   "name": "python",
   "nbconvert_exporter": "python",
   "pygments_lexer": "ipython3",
   "version": "3.9.12"
  }
 },
 "nbformat": 4,
 "nbformat_minor": 5
}
